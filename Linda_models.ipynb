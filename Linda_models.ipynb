{
  "cells": [
    {
      "cell_type": "markdown",
      "metadata": {
        "id": "view-in-github",
        "colab_type": "text"
      },
      "source": [
        "<a href=\"https://colab.research.google.com/github/linfrick/dip_learners/blob/main/Linda_models.ipynb\" target=\"_parent\"><img src=\"https://colab.research.google.com/assets/colab-badge.svg\" alt=\"Open In Colab\"/></a>"
      ]
    },
    {
      "cell_type": "markdown",
      "source": [
        "# 14 dicembre\n",
        "I'm trying to replicate what was done here: https://keras.io/examples/timeseries/timeseries_weather_forecasting/"
      ],
      "metadata": {
        "id": "Qq_OIjrvsv8b"
      }
    },
    {
      "cell_type": "code",
      "execution_count": 1,
      "metadata": {
        "id": "haRsefo-BRkj",
        "colab": {
          "base_uri": "https://localhost:8080/"
        },
        "outputId": "0aec36de-2efe-46af-8eb9-579a6b5b4fdf"
      },
      "outputs": [
        {
          "output_type": "stream",
          "name": "stdout",
          "text": [
            "Mounted at /gdrive\n",
            "/gdrive/.shortcut-targets-by-id/1TAc4mTQBgA9Db7CkATIg6BYoQuhlOTPb/dip_learners_folder2\n"
          ]
        }
      ],
      "source": [
        "from google.colab import drive\n",
        "drive.mount('/gdrive')\n",
        "%cd /gdrive/My Drive/dip_learners_folder2"
      ]
    },
    {
      "cell_type": "code",
      "execution_count": 2,
      "metadata": {
        "id": "Lgb_z4PTBj2J"
      },
      "outputs": [],
      "source": [
        "### IMPORTARE LIBRERIE GIUSTE E GUARDARE ELENCO SU CODALAB\n",
        "\n",
        "\n",
        "seed = 2\n",
        "\n",
        "# Reduce randomness as much as possible\n",
        "import os\n",
        "os.environ['TF_CPP_MIN_LOG_LEVEL'] = '3'\n",
        "os.environ['PYTHONHASHSEED'] = str(seed)\n",
        "os.environ['MPLCONFIGDIR'] = os.getcwd()+'/configs/'\n",
        "\n",
        "import random\n",
        "random.seed(seed)\n",
        "\n",
        "import numpy as np\n",
        "np.random.seed(seed)\n",
        "\n",
        "import tensorflow as tf\n",
        "tf.random.set_seed(seed)\n",
        "\n",
        "\n",
        "# Import other libraries\n",
        "import warnings\n",
        "warnings.simplefilter(action='ignore', category=FutureWarning)\n",
        "warnings.simplefilter(action='ignore', category=Warning)\n",
        "\n",
        "from sklearn.model_selection import train_test_split\n",
        "from tensorflow import keras as tfk\n",
        "from tensorflow.keras import layers as tfkl\n",
        "import matplotlib.pyplot as plt\n",
        "from tensorflow.keras.preprocessing.image import ImageDataGenerator\n",
        "from tensorflow.keras.applications import InceptionV3, ResNet50\n",
        "from tensorflow.keras.layers import Dense, Dropout, Flatten, BatchNormalization, Conv2D, MaxPooling2D\n",
        "from sklearn.metrics import accuracy_score, f1_score, precision_score, recall_score, confusion_matrix\n",
        "\n",
        "import seaborn as sns\n",
        "import pandas as pd\n",
        "import matplotlib.pyplot as plt"
      ]
    },
    {
      "cell_type": "markdown",
      "metadata": {
        "id": "nlY0hBzMG-1r"
      },
      "source": [
        "# Load the data"
      ]
    },
    {
      "cell_type": "code",
      "execution_count": 3,
      "metadata": {
        "id": "HTPqxqB6Bk2a",
        "colab": {
          "base_uri": "https://localhost:8080/"
        },
        "outputId": "52c213d8-9f2f-48bd-a2ca-952089048446"
      },
      "outputs": [
        {
          "output_type": "stream",
          "name": "stdout",
          "text": [
            "(48000,)\n",
            "(48000, 2776)\n",
            "(48000, 2)\n"
          ]
        }
      ],
      "source": [
        "categories = np.load('categories.npy', allow_pickle=True)\n",
        "training_data = np.load('training_data.npy', allow_pickle=True)\n",
        "valid_periods = np.load('valid_periods.npy', allow_pickle=True)\n",
        "\n",
        "print(categories.shape)\n",
        "print(training_data.shape)\n",
        "print(valid_periods.shape)"
      ]
    },
    {
      "cell_type": "markdown",
      "metadata": {
        "id": "98Q9ckEgam4s"
      },
      "source": [
        "# Inspect the data"
      ]
    },
    {
      "cell_type": "code",
      "execution_count": 4,
      "metadata": {
        "id": "OEcEcxHnDuHL",
        "colab": {
          "base_uri": "https://localhost:8080/"
        },
        "outputId": "28f67866-fe67-495a-e7ff-9ba1781d8cb8"
      },
      "outputs": [
        {
          "output_type": "execute_result",
          "data": {
            "text/plain": [
              "array(['A', 'B', 'C', 'D', 'E', 'F'], dtype='<U1')"
            ]
          },
          "metadata": {},
          "execution_count": 4
        }
      ],
      "source": [
        "# 6 different categories\n",
        "\n",
        "# The division into categories may help you to choose the best strategy for\n",
        "# implementing your model (or possibly your group of models).\n",
        "# Also remember that time series can have very different lengths\n",
        "\n",
        "# IMPORTANT: This is a dataset consisting of monovariate time series, i.e.\n",
        "# composed of a single feature, belonging to six different domains. The time\n",
        "# series of each domain are not to be understood as closely related to each\n",
        "# other, but only as collected from similar data sources.\n",
        "# What is required of you is therefore to build a model that is capable of\n",
        "# generalising sufficiently to predict the future samples of the 60 time series\n",
        "# of the test set.\n",
        "\n",
        "np.unique(categories)"
      ]
    },
    {
      "cell_type": "code",
      "execution_count": 5,
      "metadata": {
        "id": "dghmI3HyEskv",
        "colab": {
          "base_uri": "https://localhost:8080/"
        },
        "outputId": "82f7400c-bae9-416d-af00-79c21060191e"
      },
      "outputs": [
        {
          "output_type": "stream",
          "name": "stdout",
          "text": [
            "[[0.         0.         0.         ... 0.60277778 0.36759259 0.33148148]\n",
            " [0.         0.         0.         ... 0.6        0.46       0.396     ]\n",
            " [0.         0.         0.         ... 0.96048126 0.94650625 0.97714021]\n",
            " ...\n",
            " [0.         0.         0.         ... 0.52631579 0.58223684 0.55263158]\n",
            " [0.         0.         0.         ... 0.44559585 0.58549223 0.40414508]\n",
            " [0.         0.         0.         ... 0.54268293 0.6097561  0.59146341]]\n"
          ]
        }
      ],
      "source": [
        "# Each row of the dataset corresponds to a feature and time independent time series.\n",
        "# Each row of the dataset has been normalised to the range [0,1] independently of the other rows.\n",
        "# (PS: remember to de-normalise in the prediction function)\n",
        "\n",
        "print(training_data)"
      ]
    },
    {
      "cell_type": "code",
      "execution_count": 6,
      "metadata": {
        "id": "AasQD_bLHDYF",
        "colab": {
          "base_uri": "https://localhost:8080/"
        },
        "outputId": "f664303c-b598-438e-c2a7-402a8660e816"
      },
      "outputs": [
        {
          "output_type": "stream",
          "name": "stdout",
          "text": [
            "[[2325 2776]\n",
            " [2325 2776]\n",
            " [2325 2776]\n",
            " ...\n",
            " [2676 2776]\n",
            " [2676 2776]\n",
            " [2676 2776]]\n"
          ]
        }
      ],
      "source": [
        "# Remember that time series can have very different lengths.\n",
        "\n",
        "print(valid_periods)"
      ]
    },
    {
      "cell_type": "code",
      "execution_count": 7,
      "metadata": {
        "id": "jCHMO46HgwyB",
        "colab": {
          "base_uri": "https://localhost:8080/"
        },
        "outputId": "ad8321af-0b62-4f8a-d49a-0525ccf7a8fc"
      },
      "outputs": [
        {
          "output_type": "stream",
          "name": "stdout",
          "text": [
            "(48000, 2)\n",
            "[[2325 2776]\n",
            " [2325 2776]\n",
            " [2325 2776]\n",
            " ...\n",
            " [2676 2776]\n",
            " [2676 2776]\n",
            " [2676 2776]]\n"
          ]
        }
      ],
      "source": [
        "# Do all valid periods end with 2776? Yes.\n",
        "print(valid_periods[valid_periods[:,1]==2776,:].shape)\n",
        "\n",
        "print(valid_periods[valid_periods[:,1]==2776,:])"
      ]
    },
    {
      "cell_type": "code",
      "execution_count": 8,
      "metadata": {
        "id": "kpBepgUghQR7",
        "colab": {
          "base_uri": "https://localhost:8080/"
        },
        "outputId": "bba90e4b-7b8a-4421-836d-789fcf2bd339"
      },
      "outputs": [
        {
          "output_type": "stream",
          "name": "stdout",
          "text": [
            "(14878, 2)\n",
            "[[2712 2776]\n",
            " [2682 2776]\n",
            " [2682 2776]\n",
            " ...\n",
            " [2676 2776]\n",
            " [2676 2776]\n",
            " [2676 2776]]\n"
          ]
        }
      ],
      "source": [
        "# Do all valid periods start before 2500? No.\n",
        "print(valid_periods[valid_periods[:,0]<2500,:].shape)\n",
        "\n",
        "print(valid_periods[valid_periods[:,0]>=2500,:])"
      ]
    },
    {
      "cell_type": "code",
      "source": [
        "int(random.random()*training_data.shape[0])"
      ],
      "metadata": {
        "id": "h15myBbJoXhy",
        "colab": {
          "base_uri": "https://localhost:8080/"
        },
        "outputId": "db77f0f6-3d44-4569-f5c6-e213b31d6e3d"
      },
      "execution_count": 9,
      "outputs": [
        {
          "output_type": "execute_result",
          "data": {
            "text/plain": [
              "45889"
            ]
          },
          "metadata": {},
          "execution_count": 9
        }
      ]
    },
    {
      "cell_type": "code",
      "source": [
        "length = 0\n",
        "for i in range(valid_periods.shape[0]):\n",
        "  start,end = valid_periods[i]\n",
        "  length += (end-start)\n",
        "length /= valid_periods.shape[0]\n",
        "print(\"Average length: \"+str(length))"
      ],
      "metadata": {
        "id": "UmS2L725p41q",
        "colab": {
          "base_uri": "https://localhost:8080/"
        },
        "outputId": "7fe5f2dc-bd9c-4934-aacc-ec7b6b9ae7d1"
      },
      "execution_count": 10,
      "outputs": [
        {
          "output_type": "stream",
          "name": "stdout",
          "text": [
            "Average length: 198.30022916666667\n"
          ]
        }
      ]
    },
    {
      "cell_type": "code",
      "source": [
        "training_data[29123, 2488:2776]"
      ],
      "metadata": {
        "id": "5t7rpusqqLxT",
        "colab": {
          "base_uri": "https://localhost:8080/"
        },
        "outputId": "5c21f0ab-5a8b-4ea1-d9bc-f148c9df5cf4"
      },
      "execution_count": 11,
      "outputs": [
        {
          "output_type": "execute_result",
          "data": {
            "text/plain": [
              "array([1.        , 0.98939929, 0.98586572, 0.89399293, 0.89045936,\n",
              "       0.88339223, 0.86219081, 0.86925795, 0.85865724, 0.82685512,\n",
              "       0.85512367, 0.86219081, 0.91166078, 0.8975265 , 0.91166078,\n",
              "       0.88339223, 0.86219081, 0.84805654, 0.795053  , 0.76678445,\n",
              "       0.74558304, 0.74204947, 0.71024735, 0.70318021, 0.74204947,\n",
              "       0.73498233, 0.74558304, 0.72791519, 0.70671378, 0.71024735,\n",
              "       0.72084806, 0.70671378, 0.69964664, 0.68551237, 0.66431095,\n",
              "       0.64310954, 0.5795053 , 0.5795053 , 0.58657244, 0.57243816,\n",
              "       0.56183746, 0.56183746, 0.5335689 , 0.51236749, 0.50530035,\n",
              "       0.57243816, 0.56537102, 0.56183746, 0.5335689 , 0.51590106,\n",
              "       0.52650177, 0.5335689 , 0.52650177, 0.51943463, 0.51943463,\n",
              "       0.5229682 , 0.52650177, 0.50176678, 0.50883392, 0.51590106,\n",
              "       0.51590106, 0.50883392, 0.51943463, 0.51943463, 0.50883392,\n",
              "       0.51590106, 0.49469965, 0.51236749, 0.51590106, 0.48409894,\n",
              "       0.48056537, 0.50176678, 0.49823322, 0.50883392, 0.53710247,\n",
              "       0.6254417 , 0.6254417 , 0.62190813, 0.60424028, 0.61484099,\n",
              "       0.6254417 , 0.64310954, 0.65371025, 0.67491166, 0.65017668,\n",
              "       0.6360424 , 0.62190813, 0.63250883, 0.64310954, 0.65371025,\n",
              "       0.58657244, 0.59010601, 0.60070671, 0.5795053 , 0.57597173,\n",
              "       0.58657244, 0.65017668, 0.63957597, 0.64310954, 0.69257951,\n",
              "       0.69964664, 0.71378092, 0.66784452, 0.66784452, 0.65724382,\n",
              "       0.63957597, 0.63957597, 0.63957597, 0.61484099, 0.61837456,\n",
              "       0.62190813, 0.5795053 , 0.5795053 , 0.58303887, 0.57243816,\n",
              "       0.58303887, 0.59363958, 0.58303887, 0.59010601, 0.60070671,\n",
              "       0.5795053 , 0.59010601, 0.60424028, 0.62190813, 0.62897527,\n",
              "       0.65371025, 0.67137809, 0.66784452, 0.6819788 , 0.61837456,\n",
              "       0.63250883, 0.63957597, 0.67491166, 0.69257951, 0.69257951,\n",
              "       0.64310954, 0.61484099, 0.59717314, 0.56537102, 0.54416961,\n",
              "       0.51943463, 0.51590106, 0.50176678, 0.50530035, 0.4770318 ,\n",
              "       0.47349823, 0.46996466, 0.42756184, 0.42756184, 0.42756184,\n",
              "       0.3745583 , 0.3639576 , 0.35689046, 0.35335689, 0.34275618,\n",
              "       0.34982332, 0.34628975, 0.33922261, 0.32155477, 0.32155477,\n",
              "       0.32155477, 0.32155477, 0.28975265, 0.30035336, 0.30388693,\n",
              "       0.31448763, 0.32155477, 0.32508834, 0.30035336, 0.30388693,\n",
              "       0.3180212 , 0.33215548, 0.33922261, 0.33568905, 0.33922261,\n",
              "       0.34275618, 0.33922261, 0.36042403, 0.35689046, 0.35335689,\n",
              "       0.34628975, 0.34982332, 0.35335689, 0.35335689, 0.35335689,\n",
              "       0.34982332, 0.34628975, 0.33568905, 0.33568905, 0.33922261,\n",
              "       0.33215548, 0.33568905, 0.32508834, 0.33568905, 0.32862191,\n",
              "       0.32508834, 0.32862191, 0.33568905, 0.33215548, 0.33922261,\n",
              "       0.33215548, 0.32508834, 0.3180212 , 0.3180212 , 0.31095406,\n",
              "       0.30388693, 0.30388693, 0.29328622, 0.28621908, 0.27915194,\n",
              "       0.27561837, 0.26855124, 0.25795053, 0.25088339, 0.24381625,\n",
              "       0.23321555, 0.21201413, 0.19787986, 0.18374558, 0.18021201,\n",
              "       0.17667845, 0.16961131, 0.16607774, 0.16254417, 0.14840989,\n",
              "       0.13074205, 0.12014134, 0.11660777, 0.1024735 , 0.08833922,\n",
              "       0.07067138, 0.0459364 , 0.0459364 , 0.04240283, 0.03533569,\n",
              "       0.03180212, 0.02826855, 0.03533569, 0.03886926, 0.04240283,\n",
              "       0.03886926, 0.04240283, 0.0459364 , 0.03886926, 0.03886926,\n",
              "       0.03886926, 0.03180212, 0.03180212, 0.03180212, 0.05300353,\n",
              "       0.05300353, 0.05300353, 0.04946996, 0.0459364 , 0.04946996,\n",
              "       0.0459364 , 0.04946996, 0.04946996, 0.0565371 , 0.05300353,\n",
              "       0.05300353, 0.04240283, 0.0459364 , 0.04240283, 0.06360424,\n",
              "       0.06007067, 0.06007067, 0.06360424, 0.06007067, 0.06360424,\n",
              "       0.06007067, 0.05300353, 0.04240283, 0.03886926, 0.03886926,\n",
              "       0.03533569, 0.02826855, 0.02826855, 0.01766784, 0.01413428,\n",
              "       0.01060071, 0.01413428, 0.01060071, 0.01060071, 0.        ,\n",
              "       0.00353357, 0.01413428, 0.01413428])"
            ]
          },
          "metadata": {},
          "execution_count": 11
        }
      ]
    },
    {
      "cell_type": "code",
      "execution_count": 12,
      "metadata": {
        "id": "F14mpFu0HRK2",
        "colab": {
          "base_uri": "https://localhost:8080/",
          "height": 0
        },
        "outputId": "fb51a342-37bf-4571-c863-b848fe4c540a"
      },
      "outputs": [
        {
          "output_type": "display_data",
          "data": {
            "text/plain": [
              "<Figure size 1000x800 with 5 Axes>"
            ],
            "image/png": "[encoded data removed]"
          },
          "metadata": {}
        }
      ],
      "source": [
        "# Visualizza alcune serie temporali\n",
        "num_time_series_to_plot = 5\n",
        "range_start = int( random.random()*(training_data.shape[0]-num_time_series_to_plot) )\n",
        "range_end = range_start+num_time_series_to_plot\n",
        "fig, axs = plt.subplots(num_time_series_to_plot, figsize=(10, 8), sharex=True, sharey=True)\n",
        "\n",
        "for i in range( range_start, range_end ):\n",
        "    start, end = valid_periods[i]\n",
        "    axs[i-range_start].plot(training_data[i, start:end])\n",
        "    axs[i-range_start].set_title(f\"Categoria: {categories[i]}\")\n",
        "\n",
        "plt.xlabel(\"Tempo\")\n",
        "plt.ylabel(\"Valore\")\n",
        "plt.show()"
      ]
    },
    {
      "cell_type": "markdown",
      "source": [
        "# Build train e validation\n",
        "Invece che generare le sequenze e poi splittarle tra train e validation, per evitare di portare le stesse info in validation provo a splittare tra train e test series e poi creare le sequenze."
      ],
      "metadata": {
        "id": "rO46XEorHyyC"
      }
    },
    {
      "cell_type": "code",
      "source": [
        "def build_sequences(data, window=200, stride=50, telescope=18):\n",
        "    # Sanity check to avoid runtime errors\n",
        "    assert window % stride == 0\n",
        "    dataset = []\n",
        "    future = []\n",
        "    sequence_categories = []\n",
        "\n",
        "    # For each row, keep only the valid period, pad it and then make sequences\n",
        "    for idx, row in enumerate(data):\n",
        "      start_index = valid_periods[idx,0]\n",
        "\n",
        "      category = categories[idx]\n",
        "\n",
        "\n",
        "      temp_row = row[start_index:] #keep only valid data of row to create sequences\n",
        "      padding_check = len(temp_row)%window\n",
        "\n",
        "      if(padding_check != 0):\n",
        "          # Compute padding length\n",
        "          padding_len = window - len(temp_row)%window\n",
        "          padding = np.zeros(padding_len, dtype='float32')\n",
        "          temp_row = np.concatenate((padding,temp_row))\n",
        "          assert len(temp_row) % window == 0\n",
        "\n",
        "\n",
        "      for i in np.arange(0, len(temp_row) - window - telescope, stride):\n",
        "          dataset.append(temp_row[i:i + window]) #qui c'era .tolist() prima, in caso serva\n",
        "          future.append(temp_row[i+window:i+window+telescope])\n",
        "          sequence_categories.append(category)\n",
        "\n",
        "\n",
        "    dataset = np.array(dataset)\n",
        "    future = np.array(future)\n",
        "    sequence_categories = np.array(sequence_categories)\n",
        "\n",
        "    return dataset, future, sequence_categories"
      ],
      "metadata": {
        "id": "3tSBtmYDIpxE"
      },
      "execution_count": 13,
      "outputs": []
    },
    {
      "cell_type": "code",
      "source": [
        "X, y, cat = build_sequences(training_data)\n",
        "print(X.shape, y.shape, cat.shape)\n",
        "# val_size = 9600 #ultime 9600 righe sono per ricavare sequenze di validation\n",
        "# X_train_raw = training_data[:-val_size, :]\n",
        "# X_val_raw = training_data[-val_size:,:]\n",
        "# print(X_train_raw.shape, X_val_raw.shape)"
      ],
      "metadata": {
        "colab": {
          "base_uri": "https://localhost:8080/"
        },
        "id": "WzlSWZSDHxyv",
        "outputId": "5a5b9d19-e8a3-45e1-c392-7e37667aed13"
      },
      "execution_count": 14,
      "outputs": [
        {
          "output_type": "stream",
          "name": "stdout",
          "text": [
            "(107724, 200) (107724, 18) (107724,)\n"
          ]
        }
      ]
    },
    {
      "cell_type": "code",
      "source": [
        "# Stratified sampling\n",
        "# Get percentage of each category\n",
        "\n",
        "a = len(cat[cat[:]=='A'])\n",
        "print(a)\n",
        "\n",
        "b = len(cat[cat[:]=='B'])\n",
        "print(b)\n",
        "\n",
        "c = len(cat[cat[:]=='C'])\n",
        "print(c)\n",
        "\n",
        "d = len(cat[cat[:]=='D'])\n",
        "print(d)\n",
        "\n",
        "e = len(cat[cat[:]=='E'])\n",
        "print(e)\n",
        "\n",
        "f = len(cat[cat[:]=='F'])\n",
        "print(f)\n",
        "\n",
        "print(a+b+c+d+e+f) # confermo che sono le quantità giuste di ogni categoria\n",
        "\n",
        "# compute percentage of each category\n",
        "a = a/len(cat)\n",
        "b = b/len(cat)\n",
        "c = c/len(cat)\n",
        "d = d/len(cat)\n",
        "e = e/len(cat)\n",
        "f = f/len(cat)\n",
        "\n",
        "print(a,b,c,d,e,f)\n",
        "\n",
        "\n",
        "# X_train, y_train = build_sequences(X_train_raw)\n",
        "# X_val, y_val = build_sequences(X_val_raw)\n",
        "# print(X_train.shape, y_train.shape, X_val.shape, y_val.shape)"
      ],
      "metadata": {
        "colab": {
          "base_uri": "https://localhost:8080/"
        },
        "id": "K07bz7c5QoIZ",
        "outputId": "6f6512a6-fde3-4323-eb2b-b7901f188988"
      },
      "execution_count": 15,
      "outputs": [
        {
          "output_type": "stream",
          "name": "stdout",
          "text": [
            "20820\n",
            "16500\n",
            "24864\n",
            "26804\n",
            "18184\n",
            "552\n",
            "107724\n",
            "0.19327169432995434 0.1531692102038543 0.23081207530355352 0.24882106123055214 0.16880175262708402 0.005124206305001671\n"
          ]
        }
      ]
    },
    {
      "cell_type": "code",
      "source": [
        "X_train, X_val, y_train, y_val = train_test_split(X, y, test_size=0.2, stratify=cat, random_state=42)\n"
      ],
      "metadata": {
        "id": "1ICmVj6qqzKV"
      },
      "execution_count": 16,
      "outputs": []
    },
    {
      "cell_type": "markdown",
      "source": [
        "# Build model"
      ],
      "metadata": {
        "id": "rGJHI6pJHt7v"
      }
    },
    {
      "cell_type": "code",
      "execution_count": 17,
      "metadata": {
        "id": "JjQ_sAsIBmT1",
        "colab": {
          "base_uri": "https://localhost:8080/"
        },
        "outputId": "6ac4d621-cc72-49ae-f4bf-4dc5aa7cae32"
      },
      "outputs": [
        {
          "output_type": "stream",
          "name": "stdout",
          "text": [
            "(200, 1) (18, 1)\n"
          ]
        }
      ],
      "source": [
        "input_shape =  (X_train.shape[1], 1)\n",
        "output_shape = (y_train.shape[1], 1)\n",
        "print(input_shape, output_shape)"
      ]
    },
    {
      "cell_type": "code",
      "source": [
        "from tensorflow.keras.models import Model\n",
        "from tensorflow.keras.layers import Input, Conv1D, LSTM, Dense, Bidirectional"
      ],
      "metadata": {
        "id": "KcUdtr8N1CMj"
      },
      "execution_count": 18,
      "outputs": []
    },
    {
      "cell_type": "code",
      "source": [
        "inputs = tfk.layers.Input(shape=(input_shape))\n",
        "conv_out = Conv1D(64, kernel_size=3, activation='relu')(inputs)\n",
        "#drop_1 = Dropout(0.2)(conv_out)\n",
        "lstm_out = LSTM(128)(conv_out)\n",
        "#drop_2 = Dropout(0.2)(lstm_out)\n",
        "outputs = tfk.layers.Dense(18)(lstm_out)\n",
        "model = Model(inputs=inputs, outputs=outputs)"
      ],
      "metadata": {
        "id": "oWq0AzROT6JB"
      },
      "execution_count": 19,
      "outputs": []
    },
    {
      "cell_type": "code",
      "execution_count": 20,
      "metadata": {
        "id": "inV9jLjABou8",
        "colab": {
          "base_uri": "https://localhost:8080/"
        },
        "outputId": "a97214a8-2577-479f-9e62-20d704fa00d8"
      },
      "outputs": [
        {
          "output_type": "stream",
          "name": "stdout",
          "text": [
            "Model: \"model\"\n",
            "_________________________________________________________________\n",
            " Layer (type)                Output Shape              Param #   \n",
            "=================================================================\n",
            " input_1 (InputLayer)        [(None, 200, 1)]          0         \n",
            "                                                                 \n",
            " conv1d (Conv1D)             (None, 198, 64)           256       \n",
            "                                                                 \n",
            " lstm (LSTM)                 (None, 128)               98816     \n",
            "                                                                 \n",
            " dense (Dense)               (None, 18)                2322      \n",
            "                                                                 \n",
            "=================================================================\n",
            "Total params: 101394 (396.07 KB)\n",
            "Trainable params: 101394 (396.07 KB)\n",
            "Non-trainable params: 0 (0.00 Byte)\n",
            "_________________________________________________________________\n"
          ]
        }
      ],
      "source": [
        "learning_rate = 0.001\n",
        "\n",
        "# Compile the model\n",
        "model.compile(optimizer=tfk.optimizers.Adam(learning_rate=learning_rate), loss=\"mse\")\n",
        "\n",
        "# Display the model summary\n",
        "model.summary()"
      ]
    },
    {
      "cell_type": "code",
      "source": [
        "tfk.utils.plot_model(model, expand_nested=True, show_shapes=True)"
      ],
      "metadata": {
        "id": "GGOrmeUPWM_S",
        "colab": {
          "base_uri": "https://localhost:8080/",
          "height": 422
        },
        "outputId": "2ee23762-a251-4ee0-87bd-6bf8a9bccef3"
      },
      "execution_count": 22,
      "outputs": [
        {
          "output_type": "execute_result",
          "data": {
            "image/png": "[encoded data removed]",
            "text/plain": [
              "<IPython.core.display.Image object>"
            ]
          },
          "metadata": {},
          "execution_count": 22
        }
      ]
    },
    {
      "cell_type": "code",
      "execution_count": null,
      "metadata": {
        "colab": {
          "base_uri": "https://localhost:8080/"
        },
        "id": "EKrELxbzGb5m",
        "outputId": "a8edff26-14c9-4837-c078-43d34b334fed"
      },
      "outputs": [
        {
          "output_type": "stream",
          "name": "stdout",
          "text": [
            "Epoch 1/30\n",
            "2694/2694 [==============================] - ETA: 0s - loss: 0.0127\n",
            "Epoch 1: val_loss improved from inf to 0.01100, saving model to model_checkpoint.weights.h5\n",
            "2694/2694 [==============================] - 35s 11ms/step - loss: 0.0127 - val_loss: 0.0110\n",
            "Epoch 2/30\n",
            "2694/2694 [==============================] - ETA: 0s - loss: 0.0106\n",
            "Epoch 2: val_loss improved from 0.01100 to 0.01016, saving model to model_checkpoint.weights.h5\n",
            "2694/2694 [==============================] - 31s 11ms/step - loss: 0.0106 - val_loss: 0.0102\n",
            "Epoch 3/30\n",
            "2693/2694 [============================>.] - ETA: 0s - loss: 0.0101\n",
            "Epoch 3: val_loss improved from 0.01016 to 0.00981, saving model to model_checkpoint.weights.h5\n",
            "2694/2694 [==============================] - 31s 11ms/step - loss: 0.0101 - val_loss: 0.0098\n",
            "Epoch 4/30\n",
            "2691/2694 [============================>.] - ETA: 0s - loss: 0.0099\n",
            "Epoch 4: val_loss did not improve from 0.00981\n",
            "2694/2694 [==============================] - 29s 11ms/step - loss: 0.0099 - val_loss: 0.0105\n",
            "Epoch 5/30\n",
            "2693/2694 [============================>.] - ETA: 0s - loss: 0.0095\n",
            "Epoch 5: val_loss improved from 0.00981 to 0.00920, saving model to model_checkpoint.weights.h5\n",
            "2694/2694 [==============================] - 32s 12ms/step - loss: 0.0095 - val_loss: 0.0092\n",
            "Epoch 6/30\n",
            "2691/2694 [============================>.] - ETA: 0s - loss: 0.0093\n",
            "Epoch 6: val_loss did not improve from 0.00920\n",
            "2694/2694 [==============================] - 29s 11ms/step - loss: 0.0093 - val_loss: 0.0095\n",
            "Epoch 7/30\n",
            "2692/2694 [============================>.] - ETA: 0s - loss: 0.0091\n",
            "Epoch 7: val_loss improved from 0.00920 to 0.00894, saving model to model_checkpoint.weights.h5\n",
            "2694/2694 [==============================] - 30s 11ms/step - loss: 0.0091 - val_loss: 0.0089\n",
            "Epoch 8/30\n",
            "2690/2694 [============================>.] - ETA: 0s - loss: 0.0094\n",
            "Epoch 8: val_loss did not improve from 0.00894\n",
            "2694/2694 [==============================] - 29s 11ms/step - loss: 0.0094 - val_loss: 0.0091\n",
            "Epoch 9/30\n",
            "2694/2694 [==============================] - ETA: 0s - loss: 0.0089\n",
            "Epoch 9: val_loss improved from 0.00894 to 0.00875, saving model to model_checkpoint.weights.h5\n",
            "2694/2694 [==============================] - 29s 11ms/step - loss: 0.0089 - val_loss: 0.0087\n",
            "Epoch 10/30\n",
            "2689/2694 [============================>.] - ETA: 0s - loss: 0.0088\n",
            "Epoch 10: val_loss improved from 0.00875 to 0.00873, saving model to model_checkpoint.weights.h5\n",
            "2694/2694 [==============================] - 30s 11ms/step - loss: 0.0088 - val_loss: 0.0087\n",
            "Epoch 11/30\n",
            "2694/2694 [==============================] - ETA: 0s - loss: 0.0087\n",
            "Epoch 11: val_loss did not improve from 0.00873\n",
            "2694/2694 [==============================] - 29s 11ms/step - loss: 0.0087 - val_loss: 0.0089\n",
            "Epoch 12/30\n",
            "2689/2694 [============================>.] - ETA: 0s - loss: 0.0086\n",
            "Epoch 12: val_loss improved from 0.00873 to 0.00853, saving model to model_checkpoint.weights.h5\n",
            "2694/2694 [==============================] - 29s 11ms/step - loss: 0.0086 - val_loss: 0.0085\n",
            "Epoch 13/30\n",
            "2689/2694 [============================>.] - ETA: 0s - loss: 0.0085\n",
            "Epoch 13: val_loss improved from 0.00853 to 0.00845, saving model to model_checkpoint.weights.h5\n",
            "2694/2694 [==============================] - 29s 11ms/step - loss: 0.0085 - val_loss: 0.0084\n",
            "Epoch 14/30\n",
            "2693/2694 [============================>.] - ETA: 0s - loss: 0.0084\n",
            "Epoch 14: val_loss did not improve from 0.00845\n",
            "2694/2694 [==============================] - 29s 11ms/step - loss: 0.0084 - val_loss: 0.0087\n",
            "Epoch 15/30\n",
            "2693/2694 [============================>.] - ETA: 0s - loss: 0.0083\n",
            "Epoch 15: val_loss improved from 0.00845 to 0.00835, saving model to model_checkpoint.weights.h5\n",
            "2694/2694 [==============================] - 29s 11ms/step - loss: 0.0083 - val_loss: 0.0084\n",
            "Epoch 16/30\n",
            " 222/2694 [=>............................] - ETA: 21s - loss: 0.0081"
          ]
        }
      ],
      "source": [
        "batch_size = 32\n",
        "epochs = 30\n",
        "\n",
        "path_checkpoint = \"model_checkpoint.weights.h5\"\n",
        "es_callback = tfk.callbacks.EarlyStopping(monitor=\"val_loss\", min_delta=0, patience=10)\n",
        "\n",
        "modelckpt_callback = tfk.callbacks.ModelCheckpoint(\n",
        "    monitor=\"val_loss\",\n",
        "    filepath=path_checkpoint,\n",
        "    verbose=1,\n",
        "    save_weights_only=True,\n",
        "    save_best_only=True,\n",
        ")\n",
        "\n",
        "history = model.fit(\n",
        "    X_train,\n",
        "    y_train,\n",
        "    epochs=epochs,\n",
        "    batch_size = batch_size,\n",
        "    validation_data=(X_val, y_val),\n",
        "    callbacks=[es_callback, modelckpt_callback],\n",
        ")"
      ]
    },
    {
      "cell_type": "code",
      "source": [
        "def visualize_loss(history, title):\n",
        "    loss = history.history[\"loss\"]\n",
        "    val_loss = history.history[\"val_loss\"]\n",
        "    epochs = range(len(loss))\n",
        "    plt.figure()\n",
        "    plt.plot(epochs, loss, \"b\", label=\"Training loss\")\n",
        "    plt.plot(epochs, val_loss, \"r\", label=\"Validation loss\")\n",
        "    plt.title(title)\n",
        "    plt.xlabel(\"Epochs\")\n",
        "    plt.ylabel(\"Loss\")\n",
        "    plt.legend()\n",
        "    plt.show()\n",
        "\n",
        "\n",
        "visualize_loss(history, \"Training and Validation Loss\")"
      ],
      "metadata": {
        "id": "nE5ZStrU5zj8"
      },
      "execution_count": null,
      "outputs": []
    },
    {
      "cell_type": "markdown",
      "source": [
        "To check if the shape of the prediction is [BSx9] and see MSE and MAE of the model (on the validation set)"
      ],
      "metadata": {
        "id": "DoXafQwf-huy"
      }
    },
    {
      "cell_type": "code",
      "source": [
        "# Predict the test set using the model\n",
        "predictions = model.predict(X_val, verbose=0)\n",
        "\n",
        "# Print the shape of the predictions\n",
        "print(f\"Predictions shape: {predictions.shape}\")\n",
        "\n",
        "# Calculate and print Mean Squared Error (MSE)\n",
        "mean_squared_error = tfk.metrics.mean_squared_error(y_val.flatten(), predictions.flatten()).numpy()\n",
        "print(f\"Mean Squared Error: {mean_squared_error}\")\n",
        "\n",
        "# Calculate and print Mean Absolute Error (MAE)\n",
        "mean_absolute_error = tfk.metrics.mean_absolute_error(y_val.flatten(), predictions.flatten()).numpy()\n",
        "print(f\"Mean Absolute Error: {mean_absolute_error}\")"
      ],
      "metadata": {
        "id": "3b-GaF8dFPWj"
      },
      "execution_count": null,
      "outputs": []
    },
    {
      "cell_type": "code",
      "execution_count": null,
      "metadata": {
        "id": "KVUpc0ALSFme"
      },
      "outputs": [],
      "source": [
        "model.save('linda_try.keras')"
      ]
    }
  ],
  "metadata": {
    "accelerator": "GPU",
    "colab": {
      "collapsed_sections": [
        "98Q9ckEgam4s"
      ],
      "provenance": [],
      "gpuType": "T4",
      "include_colab_link": true
    },
    "kernelspec": {
      "display_name": "Python 3",
      "name": "python3"
    },
    "language_info": {
      "name": "python"
    }
  },
  "nbformat": 4,
  "nbformat_minor": 0
}